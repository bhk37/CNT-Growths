{
 "cells": [
  {
   "cell_type": "markdown",
   "metadata": {},
   "source": [
    "##Temperature Profile\n",
    "To measure the temperature profile of the furnace:\n",
    "- Place an empty quartz tube into the furnace.\n",
    "- Set the furnace to the desired temperature. Allow 30-45 minutes for the furnace to completely stabilize. \n",
    "- Mount a K-type thermocouple onto a holder an insert it into the center of the tube. Make sure that the thermocouple is not in direct contact with the walls of the tube. \n",
    "- Move the thermocouple in 1-2 cm steps along the length of the tube. Allow 3-5 minutes for the thermocouple to equilibrate at each step.\n",
    "\n",
    "Bryce and Alejandro characterized the CNT furnace through this procedure in June 2015. \n",
    "- The furnace was set to 900C. \n",
    "- We used a 2-foot tube rather than the standard 4-foot long one. This allowed us to maximize the extent that the thermocouple could reach within the furnace.\n",
    "- We repeated each measurement twice over the course of an hour. The difference between the two measurements was within 1-2 degrees.\n",
    "- We inserted the thermocouple from both the right-hand and left-hand side of the furnace. The two sets of measurements were symmetric and overlapped in the center of the furnace.\n",
    "- The temperature profile, as shown below, is approximately quadratic. The best-fit curve was -0.49*x^2 + 914.7, where x=0 is directly beneath the built-in thermocouple.\n",
    "\n",
    "![](../images/150601_CNT_temperature_profile.png)\n",
    "\n",
    "Note: The temperature profile likely varies depending on the set temperature. At a higher temperature (1085 C), Peter found that the thermocouple gave inconsistent readings on the graphene furnace."
   ]
  }
 ],
 "metadata": {
  "kernelspec": {
   "display_name": "Python 3",
   "language": "python",
   "name": "python3"
  },
  "language_info": {
   "codemirror_mode": {
    "name": "ipython",
    "version": 3
   },
   "file_extension": ".py",
   "mimetype": "text/x-python",
   "name": "python",
   "nbconvert_exporter": "python",
   "pygments_lexer": "ipython3",
   "version": "3.4.2"
  }
 },
 "nbformat": 4,
 "nbformat_minor": 0
}
