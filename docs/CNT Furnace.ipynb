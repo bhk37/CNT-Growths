{
 "cells": [
  {
   "cell_type": "markdown",
   "metadata": {},
   "source": [
    "##Temperature Profile\n",
    "To measure the temperature profile of the furnace:\n",
    "- Place an empty quartz tube into the furnace. For best results, use a tube that is about the same length as the furnace, or place the tube to one side of the furnace so that the end of the tube aligns with the edge of the furnace.\n",
    "- Set the furnace to the desired temperature. Allow 30-45 minutes for the furnace to completely stabilize. \n",
    "- Mount a K-type thermocouple onto a holder an insert it into the center of the tube. Make sure that the thermocouple is not in direct contact with the walls of the tube. \n",
    "- Move the thermocouple in 1-2 cm steps along the length of the tube. Allow 3-5 minutes for the thermocouple to equilibriate at each step.\n",
    "\n",
    "We characterized the CNT furnace through this procedure in June 2015. A few comments:\n",
    "- The furnace was set to 900C. \n",
    "- We repeated each measurement twice over the course of an hour. The difference between the two measurements was within 1-2 degrees.\n",
    "- We inserted the thermocouple from both the right-hand and left-hand side of the furnace. The two sets of measurments were symmetric and overlapped in the center of the furnace.\n",
    "- The temperature profile, as shown below, is approximately quadratic. The best-fit curve was -0.49*x^2 + 914.7, where x=0 is directly beneath the built-in thermocouple.\n",
    "\n",
    "![](../images/150601_CNT_temperature_profile.png)"
   ]
  }
 ],
 "metadata": {
  "kernelspec": {
   "display_name": "Python 3",
   "language": "python",
   "name": "python3"
  },
  "language_info": {
   "codemirror_mode": {
    "name": "ipython",
    "version": 3
   },
   "file_extension": ".py",
   "mimetype": "text/x-python",
   "name": "python",
   "nbconvert_exporter": "python",
   "pygments_lexer": "ipython3",
   "version": "3.4.2"
  }
 },
 "nbformat": 4,
 "nbformat_minor": 0
}
