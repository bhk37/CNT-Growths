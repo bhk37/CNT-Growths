{
 "cells": [
  {
   "cell_type": "code",
   "execution_count": 2,
   "metadata": {
    "collapsed": true
   },
   "outputs": [],
   "source": [
    "from mpl_toolkits.axes_grid1 import make_axes_locatable\n",
    "import os\n",
    "from pylab import *"
   ]
  },
  {
   "cell_type": "code",
   "execution_count": 3,
   "metadata": {
    "collapsed": true
   },
   "outputs": [],
   "source": [
    "# Define constants\n",
    "AFM_FOLDER = '../data_vault/AFM/'\n",
    "PNG_FOLDER = '../data_vault/AFM/png/'\n",
    "DIM = 512"
   ]
  },
  {
   "cell_type": "code",
   "execution_count": 4,
   "metadata": {
    "collapsed": true
   },
   "outputs": [],
   "source": [
    "# Read an AFM file. Return image data, pixel size, and units\n",
    "def read_file(file):\n",
    "    f = open(AFM_FOLDER + file, encoding = 'latin-1')\n",
    "    \n",
    "    header = True\n",
    "    hv = 0\n",
    "    bpp = 0\n",
    "    imarray = []\n",
    "    units = ''\n",
    "    for line in f:\n",
    "        cols = line.split()\n",
    "        \n",
    "        if len(cols) > 1:\n",
    "            if cols[0] == '\\Bytes/pixel:' and bpp == 0: bpp = int(cols[1])\n",
    "            if cols[0] + cols[1] == '\\Scansize:' and units == '': \n",
    "                size = float(cols[2])\n",
    "                units = cols[3]\n",
    "            if cols[0] + cols[1] == '\\@2:Zscale:' and hv == 0: hv = float(cols[-2])\n",
    "            if cols[0] == '\\Samps/line:': samps_per_line = int(cols[1])\n",
    "        \n",
    "        if not header and len(imarray) < 1024 and len(cols) > 1:\n",
    "            scale = hv/(2**(8*bpp))**2/2*25e5 # in nm\n",
    "            imarray.append([float(i)*scale for i in cols]) #image stored as rows, columns (upright)\n",
    "            \n",
    "        if line.strip() == \"\": \n",
    "            header = False\n",
    "            \n",
    "    # print('Scale: ' + str(scale) + ' nm')     \n",
    "    imarraytemp = array(imarray[0:DIM-1])\n",
    "    \n",
    "    # find first nonzero row\n",
    "    start=0\n",
    "    while sum(imarraytemp[start,:])==0:\n",
    "        start+=1\n",
    "    end=len(imarraytemp)-1\n",
    "    while sum(imarraytemp[end,:])==0:\n",
    "        end-=1\n",
    "    imarray=imarraytemp[start:end+1,:]\n",
    "    f.close()\n",
    "    \n",
    "    return imarray, size / samps_per_line, units"
   ]
  },
  {
   "cell_type": "code",
   "execution_count": 5,
   "metadata": {
    "collapsed": true
   },
   "outputs": [],
   "source": [
    "def plot_image(imarray, pixel_size, units, file, save = False):\n",
    "\n",
    "    fig=figure(figsize = (7,7))\n",
    "    im = imshow(imarray, extent = (0,imarray.shape[1]*pixel_size,imarray.shape[0]*pixel_size,0), \n",
    "                cmap = get_cmap('afmhot'))\n",
    "\n",
    "    xlabel('Position (' + units + ')', fontsize = 14)\n",
    "    divider = make_axes_locatable(gca())\n",
    "    cax = divider.append_axes(\"right\", size=\"5%\", pad=0.05)\n",
    "    cbar = colorbar(im, cax=cax)\n",
    "    clim(-5,5)\n",
    "    ylabel('Height (nm)', fontsize = 14)   \n",
    "    \n",
    "    if save:\n",
    "        savefig(PNG_FOLDER + str(file) + '.png',\n",
    "            bbox_inches = 'tight', pad_inches= 0.2)"
   ]
  },
  {
   "cell_type": "code",
   "execution_count": 6,
   "metadata": {
    "collapsed": true
   },
   "outputs": [],
   "source": [
    "def ascii_to_image(file, save = False):\n",
    "    imarray, pixel_size, units=read_file(file)\n",
    "    plot_image(imarray, pixel_size, units, file, save)"
   ]
  },
  {
   "cell_type": "code",
   "execution_count": 3,
   "metadata": {
    "collapsed": false
   },
   "outputs": [],
   "source": [
    "def convert_all_ascii():\n",
    "    for file in os.listdir(AFM_FOLDER):\n",
    "        if '.' in file and file[0] != '.' and not (file + '.png') in os.listdir(PNG_FOLDER):\n",
    "            print(file)\n",
    "            ascii_to_image(file, save = True)\n",
    "    close()"
   ]
  }
 ],
 "metadata": {
  "kernelspec": {
   "display_name": "Python 3",
   "language": "python",
   "name": "python3"
  },
  "language_info": {
   "codemirror_mode": {
    "name": "ipython",
    "version": 3
   },
   "file_extension": ".py",
   "mimetype": "text/x-python",
   "name": "python",
   "nbconvert_exporter": "python",
   "pygments_lexer": "ipython3",
   "version": "3.4.2"
  }
 },
 "nbformat": 4,
 "nbformat_minor": 0
}
