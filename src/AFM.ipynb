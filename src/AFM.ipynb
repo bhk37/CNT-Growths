{
 "cells": [
  {
   "cell_type": "code",
   "execution_count": 105,
   "metadata": {
    "collapsed": true
   },
   "outputs": [],
   "source": [
    "from mpl_toolkits.axes_grid1 import make_axes_locatable\n",
    "import os\n",
    "from pylab import *\n",
    "\n",
    "# import numpy as np\n",
    "import os\n",
    "from matplotlib import gridspec\n",
    "import scipy.optimize as opt\n",
    "# import pylab as pl\n",
    "# from matplotlib import colors, ticker, cm\n",
    "from scipy import ndimage\n",
    "# from scipy import optimize \n",
    "# from mpl_toolkits.axes_grid1 import make_axes_locatable\n",
    "from math import pi, e"
   ]
  },
  {
   "cell_type": "markdown",
   "metadata": {},
   "source": [
    "##Config"
   ]
  },
  {
   "cell_type": "code",
   "execution_count": 106,
   "metadata": {
    "collapsed": true
   },
   "outputs": [],
   "source": [
    "AFM_FOLDER = '../data_vault/AFM/'\n",
    "\n",
    "# For reading .txt files\n",
    "NLINES = 32\n",
    "SAMPLES_PER_LINE = 16384\n",
    "\n",
    "# For plotting color maps\n",
    "CMIN = -5\n",
    "CMAX = 5\n",
    "FIGSIZE = (15,7)\n",
    "\n",
    "# For determining catalyst heights\n",
    "SMOOTHNESS = 5 # increase for greater smoothness\n",
    "MAX_RAD = 30 # neighborhood to search for min\n",
    "\n",
    "# For histogram\n",
    "LOW_THRESHOLD = 0.5\n",
    "HBINS = 50\n",
    "HMIN = 0\n",
    "HMAX = 10"
   ]
  },
  {
   "cell_type": "markdown",
   "metadata": {},
   "source": [
    "##File readers"
   ]
  },
  {
   "cell_type": "code",
   "execution_count": 107,
   "metadata": {
    "collapsed": false
   },
   "outputs": [],
   "source": [
    "def read_ascii(file):\n",
    "    '''\n",
    "    Reads an ascii file (Nanoscope v5.12). Returns height data as (n x m) array and \n",
    "    scan size (width, height) in um.\n",
    "    '''\n",
    "    \n",
    "    f = open(AFM_FOLDER + file, encoding = 'latin-1')\n",
    "    \n",
    "    header = True\n",
    "    hv = 0\n",
    "    bpp = 0\n",
    "    imarray = []\n",
    "    units = ''\n",
    "    aspect = None\n",
    "    \n",
    "    for line in f:\n",
    "        cols = line.split()\n",
    "        \n",
    "        if len(cols) > 1:\n",
    "            if cols[0] == '\\Bytes/pixel:' and bpp == 0: bpp = int(cols[1])\n",
    "            if cols[0] + cols[1] == '\\Scansize:' and units == '': \n",
    "                size = float(cols[2])\n",
    "                units = cols[3]\n",
    "            if cols[0] + cols[1] == '\\@2:Zscale:' and hv == 0: hv = float(cols[-2])\n",
    "            if cols[0] == '\\Samps/line:': samps_per_line = int(cols[1])\n",
    "            if cols[0] == '\\Lines:': lines = int(cols[1])\n",
    "            if cols[0] == '\\Aspect' and aspect is None: aspect = int(cols[2].split(':')[0])\n",
    "        \n",
    "        if not header and len(cols) > 1:\n",
    "            scale = hv/(2**(8*bpp))**2/2*25e5 # in nm\n",
    "            #image stored as rows, columns (upright)\n",
    "            imarray.append([float(i)*scale for i in cols]) \n",
    "            \n",
    "        if line.strip() == \"\": \n",
    "            header = False\n",
    "    \n",
    "    f.close()\n",
    "    \n",
    "    # scan size (width, height) in um\n",
    "    size = (size / 1000, size / aspect / 1000)\n",
    "    \n",
    "    # cuts out amplitude data\n",
    "    imarray = array(imarray[0:len(imarray)//2])\n",
    "    \n",
    "    # if rectangular, cuts out margins at top and bottom \n",
    "    if aspect != 1:\n",
    "        n, m = shape(imarray)\n",
    "        imarray = imarray[int(m*(0.5-1/(2*aspect))):int(m*(0.5+1/(2*aspect))), :]\n",
    "    \n",
    "    # flips image vertically\n",
    "    imarray = flipud(imarray)\n",
    "    \n",
    "    return imarray, size"
   ]
  },
  {
   "cell_type": "code",
   "execution_count": 108,
   "metadata": {
    "collapsed": false
   },
   "outputs": [],
   "source": [
    "def read_txt(filename, nlines = NLINES, samples_per_line = SAMPLES_PER_LINE):\n",
    "    '''\n",
    "    Reads a simple text file from CNF AFM. Returns height data as \n",
    "    (nlines x samples_per_line) array.\n",
    "    '''\n",
    "    \n",
    "    #Loads data\n",
    "    data = np.loadtxt(AFM_FOLDER + filename,skiprows=1)\n",
    "\n",
    "    #Load in catalyst heights then reshape into a matrix\n",
    "    CHeights = np.copy(data[:,0])\n",
    "    CHeights = CHeights.reshape(nlines,samples_per_line)\n",
    "    \n",
    "    CHeights = flipud(CHeights)\n",
    "    \n",
    "    return CHeights"
   ]
  },
  {
   "cell_type": "markdown",
   "metadata": {},
   "source": [
    "##Color map"
   ]
  },
  {
   "cell_type": "code",
   "execution_count": 109,
   "metadata": {
    "collapsed": false
   },
   "outputs": [],
   "source": [
    "def plot_image(im, size = None, filename = None, save = False,\n",
    "               cmin = CMIN, cmax = CMAX, ax = None):\n",
    "    '''\n",
    "    Plots the height data as a color map. \n",
    "    \n",
    "    im: (m x n) array of height data\n",
    "    size: (width, height) in um; if None, size is the dimensions of im in pixels\n",
    "    '''\n",
    "    \n",
    "    if size is None: size = (shape(im)[1], shape(im)[0])\n",
    "    \n",
    "    if ax is None:\n",
    "        fig = figure(figsize = FIGSIZE)\n",
    "        ax = fig.gca()\n",
    "    \n",
    "    img = ax.imshow(im, aspect = 'equal', interpolation = 'none',\n",
    "                extent = (0,size[0],size[1],0), \n",
    "                cmap = get_cmap('afmhot'))\n",
    "\n",
    "    if size != shape(im)[::-1]: ax.set_xlabel('Position (um)')\n",
    "        \n",
    "    divider = make_axes_locatable(ax)\n",
    "    cax = divider.append_axes(\"right\", size=\"5%\", pad=0.05)\n",
    "    cbar = colorbar(img, cax=cax)\n",
    "    img.set_clim(cmin, cmax)\n",
    "    ylabel('Height (nm)', fontsize = 14)   \n",
    "    \n",
    "    if save and filename is not None:\n",
    "        savefig(AFM_FOLDER + str(filename) + '.png',\n",
    "            bbox_inches = 'tight', pad_inches= 0.2)\n",
    "        \n",
    "    return ax"
   ]
  },
  {
   "cell_type": "code",
   "execution_count": 110,
   "metadata": {
    "collapsed": true
   },
   "outputs": [],
   "source": [
    "def ascii_to_image(file, save = False):\n",
    "    imarray, pixel_size, units = read_file(file)\n",
    "    plot_image(imarray, pixel_size, units, file, save)"
   ]
  },
  {
   "cell_type": "code",
   "execution_count": 111,
   "metadata": {
    "collapsed": false
   },
   "outputs": [],
   "source": [
    "def convert_all_ascii():\n",
    "    for file in os.listdir(AFM_FOLDER):\n",
    "        if '.' in file and file[0] != '.' and not (file + '.png') in os.listdir(AFM_FOLDER):\n",
    "            print(file)\n",
    "            ascii_to_image(file, save = True)\n",
    "    close()"
   ]
  },
  {
   "cell_type": "markdown",
   "metadata": {},
   "source": [
    "#Catalyst Size Analysis"
   ]
  },
  {
   "cell_type": "markdown",
   "metadata": {},
   "source": [
    "##Local maximum finder"
   ]
  },
  {
   "cell_type": "code",
   "execution_count": 112,
   "metadata": {
    "collapsed": true
   },
   "outputs": [],
   "source": [
    "# Source: http://stackoverflow.com/questions/3684484/peak-detection-in-a-2d-array/3689710#3689710\n",
    "from scipy.ndimage.filters import maximum_filter\n",
    "from scipy.ndimage.morphology import generate_binary_structure, binary_erosion\n",
    "\n",
    "def detect_peaks(image):\n",
    "    \"\"\"\n",
    "    Takes an image and detect the peaks using the local maximum filter.\n",
    "    Returns a boolean mask of the peaks (i.e. 1 when\n",
    "    the pixel's value is the neighborhood maximum, 0 otherwise)\n",
    "    \"\"\"\n",
    "\n",
    "    # define an 8-connected neighborhood\n",
    "    neighborhood = generate_binary_structure(2,2)\n",
    "\n",
    "    #apply the local maximum filter; all pixel of maximal value \n",
    "    #in their neighborhood are set to 1\n",
    "    local_max = maximum_filter(image, footprint=neighborhood)==image\n",
    "    #local_max is a mask that contains the peaks we are \n",
    "    #looking for, but also the background.\n",
    "    #In order to isolate the peaks we must remove the background from the mask.\n",
    "\n",
    "    #we create the mask of the background\n",
    "    background = (image==0)\n",
    "\n",
    "    #a little technicality: we must erode the background in order to \n",
    "    #successfully subtract it form local_max, otherwise a line will \n",
    "    #appear along the background border (artifact of the local maximum filter)\n",
    "    eroded_background = binary_erosion(background, structure=neighborhood, border_value=1)\n",
    "\n",
    "    #we obtain the final mask, containing only peaks, \n",
    "    #by removing the background from the local_max mask\n",
    "    detected_peaks = local_max - eroded_background\n",
    "\n",
    "    return detected_peaks"
   ]
  },
  {
   "cell_type": "markdown",
   "metadata": {},
   "source": [
    "##Determine Centers of Catalysts¶"
   ]
  },
  {
   "cell_type": "code",
   "execution_count": 113,
   "metadata": {
    "collapsed": true
   },
   "outputs": [],
   "source": [
    "def get_circle(center, rad, im = None, size = None, npts = 50):\n",
    "    \n",
    "    if im is not None and size is None: size = shape(im)[::-1]\n",
    "        \n",
    "    m, n = shape(im)\n",
    "    \n",
    "    aspect = (n/size[0])/(m/size[1])\n",
    "    \n",
    "    xs = center[1] + (rad*cos(linspace(0,2*pi,npts))).astype(int)\n",
    "    ys = center[0] + (rad/aspect*sin(linspace(0,2*pi,npts))).astype(int)\n",
    "    \n",
    "    circle = zip(ys, xs)\n",
    "    circle = filter(lambda loc: min(loc) >= 0 and loc[0] < m and loc[1] < n, circle)\n",
    "    \n",
    "    return circle"
   ]
  },
  {
   "cell_type": "code",
   "execution_count": 114,
   "metadata": {
    "collapsed": true
   },
   "outputs": [],
   "source": [
    "def locate_cats(im, smoothness = SMOOTHNESS, max_rad = MAX_RAD, size = None, ax = None):\n",
    "    '''\n",
    "    Finds the location and heights catalysts in an AFM image. \n",
    "    Returns a list of dictionaries.\n",
    "    \n",
    "    im: the starting image (without smoothing)\n",
    "    smoothness: controls the amount of smoothing; lower for less smoothing\n",
    "    '''\n",
    "    \n",
    "    m,n = shape(im)\n",
    "    \n",
    "    # Smooths out image for peak finding algorithm only in direction\n",
    "    # Lower sigma for less smoothing and increase for more averaging\n",
    "    smooth = ndimage.filters.gaussian_filter(im, sigma = [n/m*smoothness, smoothness])\n",
    "\n",
    "    # Uses peak detection algorithm\n",
    "    result = detect_peaks(smooth)\n",
    "    ys,xs = where(result==1)\n",
    "    cats = [{'loc':loc} for loc in zip(list(ys),list(xs))]\n",
    "    \n",
    "    for cat in cats:\n",
    "        maxH = im[cat['loc']]\n",
    "        minH = maxH\n",
    "        minRad = 0\n",
    "        \n",
    "        for rad in range(1, max_rad):\n",
    "            circle = get_circle(cat['loc'], rad, im = im, size = size)\n",
    "            \n",
    "            h = mean([im[loc] for loc in circle])\n",
    "            \n",
    "            if h < minH:\n",
    "                minRad = rad\n",
    "                minH = h\n",
    "                \n",
    "        cat['height'] = maxH - minH\n",
    "        cat['rad'] = minRad\n",
    "    \n",
    "    return cats"
   ]
  },
  {
   "cell_type": "markdown",
   "metadata": {},
   "source": [
    "##Plot results"
   ]
  },
  {
   "cell_type": "code",
   "execution_count": 115,
   "metadata": {
    "collapsed": false
   },
   "outputs": [],
   "source": [
    "def plot_cat_map(im, cats, size = None, ax = None):\n",
    "    m, n = shape(im)\n",
    "    \n",
    "    if size is None: size = (n, m)\n",
    "    \n",
    "    ax = plot_image(im, size = size, ax = ax)\n",
    "    \n",
    "    for cat in cats:\n",
    "        ax.plot(cat['loc'][1]*size[0]/n, cat['loc'][0]*size[1]/m, 'b.', markersize = 2)\n",
    "        \n",
    "        if 'rad' in cat:\n",
    "            circle = get_circle(cat['loc'], cat['rad'], im = im, size = size)\n",
    "            \n",
    "            # converts coordinates from pixels to image scale (e.g. um)\n",
    "            circle = [(loc[1]*size[0]/n, loc[0]*size[1]/m) for loc in circle]\n",
    "            \n",
    "            ax.plot(*zip(*circle), color = 'b', markersize = 0.5, alpha = 0.5)\n",
    "        \n",
    "    ax.margins(0,0)"
   ]
  },
  {
   "cell_type": "code",
   "execution_count": 116,
   "metadata": {
    "collapsed": false
   },
   "outputs": [],
   "source": [
    "def plot_height_dist(cats, hmin = HMIN, hmax = HMAX, hbins = HBINS, ax = None):\n",
    "    if ax is None:\n",
    "        fig = figure() \n",
    "        ax = fig.gca()\n",
    "    \n",
    "    heights = [cat['height'] for cat in cats]\n",
    "    \n",
    "    ax.hist(heights, bins = hbins,range=(hmin, hmax));\n",
    "    ax.set_xlabel('Height (nm)')\n",
    "    ax.set_ylabel('Counts')"
   ]
  },
  {
   "cell_type": "code",
   "execution_count": 117,
   "metadata": {
    "collapsed": true
   },
   "outputs": [],
   "source": [
    "def plot_all(im, size = None, smoothness = SMOOTHNESS, max_rad = MAX_RAD, figsize = FIGSIZE,\n",
    "              hmin = HMIN, hmax = HMAX, hbins = HBINS, save = False, fn = None):\n",
    "    \n",
    "    figure(figsize = figsize)\n",
    "    gs = gridspec.GridSpec(1, 2, width_ratios = [1.2, 1], wspace = 0.25)\n",
    "    ax1 = subplot(gs[0,0])\n",
    "    ax2 = subplot(gs[0,1])\n",
    "\n",
    "    cats = locate_cats(im, smoothness = smoothness, max_rad = max_rad)\n",
    "    plot_cat_map(im, cats, size = size, ax = ax1)\n",
    "    plot_height_dist(cats, hmin = hmin, hmax = hmax, hbins = hbins, ax = ax2)\n",
    "    \n",
    "    if save and filename is not None:\n",
    "        savefig(AFM_FOLDER + str(filename) + '_cats.png',\n",
    "            bbox_inches = 'tight', pad_inches= 0.2)\n",
    "        \n",
    "    return cats"
   ]
  }
 ],
 "metadata": {
  "kernelspec": {
   "display_name": "Python 3",
   "language": "python",
   "name": "python3"
  },
  "language_info": {
   "codemirror_mode": {
    "name": "ipython",
    "version": 3
   },
   "file_extension": ".py",
   "mimetype": "text/x-python",
   "name": "python",
   "nbconvert_exporter": "python",
   "pygments_lexer": "ipython3",
   "version": "3.4.2"
  }
 },
 "nbformat": 4,
 "nbformat_minor": 0
}
