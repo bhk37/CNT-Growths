{
 "cells": [
  {
   "cell_type": "markdown",
   "metadata": {},
   "source": [
    "**This notebook has been adapted from 'ajc150715_VeecoAFM_CatalystAnalysis.ipynb'"
   ]
  },
  {
   "cell_type": "code",
   "execution_count": 1,
   "metadata": {
    "collapsed": false
   },
   "outputs": [
    {
     "name": "stdout",
     "output_type": "stream",
     "text": [
      "Using matplotlib backend: MacOSX\n"
     ]
    }
   ],
   "source": [
    "#Loads libs\n",
    "import numpy as np\n",
    "import os\n",
    "import matplotlib.pyplot as plt\n",
    "import scipy.optimize as opt\n",
    "import pylab as pl\n",
    "from matplotlib import colors, ticker, cm\n",
    "from scipy import ndimage\n",
    "from scipy import optimize \n",
    "from mpl_toolkits.axes_grid1 import make_axes_locatable\n",
    "from math import pi, e\n",
    "# %matplotlib"
   ]
  },
  {
   "cell_type": "code",
   "execution_count": 2,
   "metadata": {
    "collapsed": false
   },
   "outputs": [],
   "source": [
    "#To configure plot labels\n",
    "def configPlot(xAxis='',yAxis='',fileTitle=''):\n",
    "    plt.xlabel(xAxis,fontsize=20)\n",
    "    plt.ylabel(yAxis,fontsize=20)\n",
    "    plt.title(fileTitle)"
   ]
  },
  {
   "cell_type": "code",
   "execution_count": null,
   "metadata": {
    "collapsed": true
   },
   "outputs": [],
   "source": [
    "#VARIABLES FOR DETERMINE CENTERS OF CATALYSTS\n",
    "smooth = 5 #Lower smoothness for less smoothing and increase for more\n",
    "colorRes = 100 #for plot\n",
    "plotHighT = 10 #for plot\n",
    "\n",
    "\n",
    "#\n",
    "# --------------------//-----------------------------\n",
    "#\n",
    "\n",
    "#VARIABLES FOR GET CATALYST HEIGHT DISTRIBUTION\n",
    "maxNB = 5 #neighborhood to search for max\n",
    "minNB = 50 #neighborhood to search for mins\n",
    "lowThreshold = 0.\n",
    "histBins = 100\n",
    "histMin = 0\n",
    "histMax = 10\n",
    "\n",
    "#\n",
    "# --------------------//-----------------------------\n",
    "#\n",
    "\n",
    "#VARIABLES FOR PLOT EXAMPLES OF CATALYST HEIGHT EXTRACTION\n",
    "nbPlot = 100 #pixel neighborhood to plot\n",
    "numX = 5\n",
    "numY = 5"
   ]
  },
  {
   "cell_type": "markdown",
   "metadata": {},
   "source": [
    "# Catalyst Size Analysis"
   ]
  },
  {
   "cell_type": "markdown",
   "metadata": {},
   "source": [
    "## Local Maximum Finder"
   ]
  },
  {
   "cell_type": "code",
   "execution_count": 3,
   "metadata": {
    "collapsed": false
   },
   "outputs": [],
   "source": [
    "# Source: http://stackoverflow.com/questions/3684484/peak-detection-in-a-2d-array/3689710#3689710\n",
    "from scipy.ndimage.filters import maximum_filter\n",
    "from scipy.ndimage.morphology import generate_binary_structure, binary_erosion\n",
    "\n",
    "def detect_peaks(image):\n",
    "    \"\"\"\n",
    "    Takes an image and detect the peaks using the local maximum filter.\n",
    "    Returns a boolean mask of the peaks (i.e. 1 when\n",
    "    the pixel's value is the neighborhood maximum, 0 otherwise)\n",
    "    \"\"\"\n",
    "\n",
    "    # define an 8-connected neighborhood\n",
    "    neighborhood = generate_binary_structure(2,2)\n",
    "\n",
    "    #apply the local maximum filter; all pixel of maximal value \n",
    "    #in their neighborhood are set to 1\n",
    "    local_max = maximum_filter(image, footprint=neighborhood)==image\n",
    "    #local_max is a mask that contains the peaks we are \n",
    "    #looking for, but also the background.\n",
    "    #In order to isolate the peaks we must remove the background from the mask.\n",
    "\n",
    "    #we create the mask of the background\n",
    "    background = (image==0)\n",
    "\n",
    "    #a little technicality: we must erode the background in order to \n",
    "    #successfully subtract it form local_max, otherwise a line will \n",
    "    #appear along the background border (artifact of the local maximum filter)\n",
    "    eroded_background = binary_erosion(background, structure=neighborhood, border_value=1)\n",
    "\n",
    "    #we obtain the final mask, containing only peaks, \n",
    "    #by removing the background from the local_max mask\n",
    "    detected_peaks = local_max - eroded_background\n",
    "\n",
    "    return detected_peaks"
   ]
  },
  {
   "cell_type": "markdown",
   "metadata": {},
   "source": [
    "## Determine Centers of Catalysts"
   ]
  },
  {
   "cell_type": "code",
   "execution_count": 4,
   "metadata": {
    "collapsed": false
   },
   "outputs": [],
   "source": [
    "def plotCatMap(fn,colorResolution=200,plotHighThreshold=10,smoothness=2,filetype='png'):\n",
    "    plt.rcParams.update({'font.size': 15})\n",
    "    \n",
    "    #Loads data\n",
    "    data = np.loadtxt(fn,skiprows=1)\n",
    "\n",
    "    #Load in catalyst heights then reshape into a matrix\n",
    "    CHeights = np.copy(data[:,0])\n",
    "    CHeights = CHeights.reshape(32,16384)\n",
    "    \n",
    "#     #Zoom into region\n",
    "#     CHeights = CHeights[0:17,400:2700]\n",
    "\n",
    "    #Get dimensions of x and y \n",
    "    nx = np.shape(CHeights)[0]\n",
    "    ny = np.shape(CHeights)[1]\n",
    "\n",
    "    CHeightsAdj = np.copy(CHeights)\n",
    "\n",
    "    #Plot adjusted heights with a high threshold \n",
    "    fig = plt.figure(1)\n",
    "    ax = plt.subplot(111)\n",
    "    CHeightsAdjHighThres = np.copy(CHeightsAdj)\n",
    "    CHeightsAdjHighThres[CHeightsAdj>plotHighThreshold] = plotHighThreshold\n",
    "    PC = plt.contourf(CHeightsAdjHighThres,colorResolution)\n",
    "    ax.set_aspect(128)\n",
    "    \n",
    "    # Adding the colorbar\n",
    "    cb = plt.colorbar(fraction=0.03,aspect=10)  \n",
    "    cb.set_label('  '+ ' nm',rotation=0)\n",
    "\n",
    "    #Smooths out image for peak finding algorithm only in direction\n",
    "    #Lower sigma for less smoothing and increase for more averaging\n",
    "    for i in range(nx):\n",
    "        CHeightsAdj[i,:] = ndimage.gaussian_filter(CHeightsAdj[i,:], sigma=smoothness)\n",
    "\n",
    "    #Uses peak detection algorithm\n",
    "    result = detect_peaks(CHeightsAdj)*1.0\n",
    "    peaks = np.where(result==1)\n",
    "    peaksX = peaks[1]\n",
    "    peaksY = peaks[0]\n",
    "\n",
    "    pl.plot(peaksX,peaksY,marker='o',markersize=1.,linestyle='',color='r')\n",
    "    \n",
    "    #Saving file as vector PDF or highres PNG\n",
    "    fnTitle = fn.replace('.txt','')\n",
    "    if filetype=='pdf':\n",
    "        plt.savefig(fnTitle + '_Heights.pdf', format='PDF')\n",
    "    elif filetype=='png':\n",
    "        plt.savefig(fnTitle + '_Heights.png',dpi=500)\n",
    "        \n",
    "    return CHeights,CHeightsAdj,peaksX,peaksY"
   ]
  },
  {
   "cell_type": "markdown",
   "metadata": {},
   "source": [
    "## Get Catalyst Height Distribution"
   ]
  },
  {
   "cell_type": "code",
   "execution_count": 5,
   "metadata": {
    "collapsed": false
   },
   "outputs": [],
   "source": [
    "def plotCatDist(CHeights,CHeightsAdj,peaksX,peaksY,maxNB=10,minNB=50,lowThreshold=0.5,histBins=50,histMin=1,histMax=30,filetype='png'):\n",
    "    plt.rcParams.update({'font.size': 20})\n",
    "    \n",
    "    peakHeights = np.array([])\n",
    "    ny = np.shape(CHeights)[0]\n",
    "    nx = np.shape(CHeights)[1]\n",
    "    \n",
    "    #included peaks dictionary\n",
    "    includedPeaks = []\n",
    "    \n",
    "    for i in range(len(peaksX)):\n",
    "        locX = peaksX[i]\n",
    "        locY = peaksY[i]\n",
    "        maxRange = CHeights[locY,locX - maxNB:locX + maxNB]\n",
    "        minRangeL = CHeights[locY,locX - minNB:locX]\n",
    "        minRangeR = CHeights[locY,locX:locX + minNB]\n",
    "        if len(maxRange) > 0 and len(minRangeL) > 0 and len(minRangeR) > 0:\n",
    "            maxH = max(maxRange)\n",
    "            minHL = min(minRangeL)\n",
    "            minHR = min(minRangeR)\n",
    "            h = maxH - (minHL + minHR)/2.\n",
    "            if h > lowThreshold:\n",
    "                peakHeights = np.append(peakHeights,h)\n",
    "                \n",
    "                includedPeak = ({'locX':locX,\n",
    "                                      'locY':locY,\n",
    "                                      'maxH':maxH,\n",
    "                                      'minHL':minHL,\n",
    "                                      'minHR':minHR,\n",
    "                                      'h':h\n",
    "                                      })\n",
    "                includedPeaks.append(includedPeak)\n",
    "                \n",
    "    fig = plt.figure(2)   \n",
    "    plt.hist(peakHeights,bins=histBins,range=(histMin,histMax));\n",
    "    configPlot('Height (nm)','Counts')\n",
    "    \n",
    "    #Saving file as vector PDF or highres PNG\n",
    "    fnTitle = fn.replace('.txt','')\n",
    "    if filetype=='pdf':\n",
    "        plt.savefig(fnTitle + '_Dist.pdf', format='PDF')\n",
    "    elif filetype=='png':\n",
    "        plt.savefig(fnTitle + '_Dist.png',dpi=500)\n",
    "        \n",
    "    return includedPeaks"
   ]
  },
  {
   "cell_type": "markdown",
   "metadata": {},
   "source": [
    "## Plot Examples of Catalyst Height Extraction"
   ]
  },
  {
   "cell_type": "code",
   "execution_count": 6,
   "metadata": {
    "collapsed": false
   },
   "outputs": [],
   "source": [
    "def plotCatExamples(CHeights,CHeightsAdj,includedPeaks,numX=2,numY=5,nbPlot=200,filetype='png'):\n",
    "\n",
    "    plt.rcParams.update({'font.size': 9})\n",
    "    \n",
    "    f, axarr = plt.subplots(numX, numY)\n",
    "    randomPeaks = np.random.choice(range(len(includedPeaks)),size=numX*numY,replace=False)\n",
    "\n",
    "    count = 0\n",
    "    for i in range(numY):\n",
    "        for j in range(numX):\n",
    "            peak = includedPeaks[randomPeaks[count]]\n",
    "            locX = peak.get('locX')\n",
    "            locY = peak.get('locY')\n",
    "            y = CHeights[locY,locX - nbPlot/2:locX + nbPlot/2]\n",
    "            y2 = CHeightsAdj[locY,locX - nbPlot/2:locX+nbPlot/2]\n",
    "            x = range(len(y))\n",
    "            center = x[len(y)//2]\n",
    "            maxH = y[center]\n",
    "            axarr[j,i].plot(x,y,x,y2)\n",
    "            h = peak.get('h')\n",
    "            axarr[j,i].plot([center,center], [maxH, maxH - h], color='red', linestyle='-', linewidth=1)\n",
    "            count += 1\n",
    "            \n",
    "    f.subplots_adjust(hspace=0.5,wspace=0.5)\n",
    "    \n",
    "    #Saving file as vector PDF or highres PNG\n",
    "    fnTitle = fn.replace('.txt','')\n",
    "    if filetype=='pdf':\n",
    "        plt.savefig(fnTitle + '_Examples.pdf', format='PDF')\n",
    "    elif filetype=='png':\n",
    "        plt.savefig(fnTitle + '_Examples.png',dpi=500)"
   ]
  },
  {
   "cell_type": "markdown",
   "metadata": {},
   "source": [
    "## Run Catalyst Analysis"
   ]
  },
  {
   "cell_type": "code",
   "execution_count": 8,
   "metadata": {
    "collapsed": false
   },
   "outputs": [],
   "source": [
    "# #VARIABLES FOR DETERMINE CENTERS OF CATALYSTS\n",
    "# smooth = 5 #Lower smoothness for less smoothing and increase for more\n",
    "# colorRes = 100 #for plot\n",
    "# plotHighT = 10 #for plot\n",
    "\n",
    "\n",
    "# #\n",
    "# # --------------------//-----------------------------\n",
    "# #\n",
    "\n",
    "# #VARIABLES FOR GET CATALYST HEIGHT DISTRIBUTION\n",
    "# maxNB = 5 #neighborhood to search for max\n",
    "# minNB = 50 #neighborhood to search for mins\n",
    "# lowThreshold = 0.\n",
    "# histBins = 100\n",
    "# histMin = 0\n",
    "# histMax = 10\n",
    "\n",
    "# #\n",
    "# # --------------------//-----------------------------\n",
    "# #\n",
    "\n",
    "# #VARIABLES FOR PLOT EXAMPLES OF CATALYST HEIGHT EXTRACTION\n",
    "# nbPlot = 100 #pixel neighborhood to plot\n",
    "# numX = 5\n",
    "# numY = 5\n",
    "\n",
    "# #\n",
    "# # --------------------//-----------------------------\n",
    "# #\n",
    "\n",
    "# # Load in AFM text file\n",
    "# # os.chdir(\"C:/Users/Joshua/Documents/Nanotubes/AFMimages/150716/Ascii\")\n",
    "# fn = '../data_vault/AFM/150716_W10_Catalystlines-000.txt'\n",
    "\n",
    "# #Run Catalyst Peak Finder\n",
    "# CHeights,CHeightsAdj,peaksX,peaksY= plotCatMap(fn,\n",
    "#                                                 colorResolution=colorRes,\n",
    "#                                                 plotHighThreshold=plotHighT,\n",
    "#                                                 smoothness=smooth,\n",
    "#                                                 filetype='png')\n",
    "\n",
    "# #Plot the catalyst size distribution\n",
    "# includedPeaks = plotCatDist(CHeights,CHeightsAdj,peaksX,peaksY,\n",
    "#             maxNB=maxNB,\n",
    "#             minNB=minNB,\n",
    "#             lowThreshold=lowThreshold,\n",
    "#             histBins=histBins,\n",
    "#             histMin=histMin,\n",
    "#             histMax=histMax,\n",
    "#             filetype='png')\n",
    "\n",
    "# #Plot a few examples of catalyst analysis\n",
    "# plotCatExamples(CHeights,CHeightsAdj,\n",
    "#                 includedPeaks,\n",
    "#                 nbPlot=nbPlot,\n",
    "#                 numX=numX,\n",
    "#                 numY=numY,\n",
    "#                 filetype='png')"
   ]
  },
  {
   "cell_type": "code",
   "execution_count": 45,
   "metadata": {
    "collapsed": false
   },
   "outputs": [],
   "source": [
    "# # defining fitting function\n",
    "# def gau_fit(histrange, heights):\n",
    "#     return 1/(2 * pi * pstdev(heights)) * (e*np.exp(-((histBins-mean(heights))**2) / (2*pstdev(heights))**2))"
   ]
  },
  {
   "cell_type": "code",
   "execution_count": 47,
   "metadata": {
    "collapsed": false
   },
   "outputs": [
    {
     "ename": "TypeError",
     "evalue": "list indices must be integers, not str",
     "output_type": "error",
     "traceback": [
      "\u001b[1;31m---------------------------------------------------------------------------\u001b[0m",
      "\u001b[1;31mTypeError\u001b[0m                                 Traceback (most recent call last)",
      "\u001b[1;32m<ipython-input-47-d19a432b0208>\u001b[0m in \u001b[0;36m<module>\u001b[1;34m()\u001b[0m\n\u001b[0;32m      1\u001b[0m \u001b[1;31m# Curve fit\u001b[0m\u001b[1;33m\u001b[0m\u001b[1;33m\u001b[0m\u001b[0m\n\u001b[1;32m----> 2\u001b[1;33m \u001b[0mpar\u001b[0m\u001b[1;33m,\u001b[0m \u001b[0mcovar\u001b[0m \u001b[1;33m=\u001b[0m \u001b[0mopt\u001b[0m\u001b[1;33m.\u001b[0m\u001b[0mcurve_fit\u001b[0m\u001b[1;33m(\u001b[0m\u001b[0mgau_fit\u001b[0m\u001b[1;33m,\u001b[0m \u001b[0mhistBins\u001b[0m\u001b[1;33m,\u001b[0m \u001b[0mincludedPeaks\u001b[0m\u001b[1;33m[\u001b[0m\u001b[1;34m'h'\u001b[0m\u001b[1;33m]\u001b[0m\u001b[1;33m,\u001b[0m \u001b[1;33m[\u001b[0m\u001b[1;36m1\u001b[0m\u001b[1;33m,\u001b[0m\u001b[1;36m6\u001b[0m\u001b[1;33m]\u001b[0m\u001b[1;33m)\u001b[0m\u001b[1;33m\u001b[0m\u001b[0m\n\u001b[0m\u001b[0;32m      3\u001b[0m \u001b[1;33m\u001b[0m\u001b[0m\n\u001b[0;32m      4\u001b[0m \u001b[1;31m#plotting results\u001b[0m\u001b[1;33m\u001b[0m\u001b[1;33m\u001b[0m\u001b[0m\n\u001b[0;32m      5\u001b[0m \u001b[0mfig\u001b[0m \u001b[1;33m=\u001b[0m \u001b[0mplt\u001b[0m\u001b[1;33m.\u001b[0m\u001b[0mfigure\u001b[0m\u001b[1;33m(\u001b[0m\u001b[1;36m4\u001b[0m\u001b[1;33m)\u001b[0m\u001b[1;33m\u001b[0m\u001b[0m\n",
      "\u001b[1;31mTypeError\u001b[0m: list indices must be integers, not str"
     ]
    }
   ],
   "source": [
    "# # Curve fit\n",
    "# par, covar = opt.curve_fit(gau_fit, histBins, includedPeaks['h'], [1,6])\n",
    "\n",
    "# #plotting results\n",
    "# fig = plt.figure(4)\n",
    "# pl.plot(gau_fit(880, par))"
   ]
  }
 ],
 "metadata": {
  "kernelspec": {
   "display_name": "Python 3",
   "language": "python",
   "name": "python3"
  },
  "language_info": {
   "codemirror_mode": {
    "name": "ipython",
    "version": 3
   },
   "file_extension": ".py",
   "mimetype": "text/x-python",
   "name": "python",
   "nbconvert_exporter": "python",
   "pygments_lexer": "ipython3",
   "version": "3.4.2"
  }
 },
 "nbformat": 4,
 "nbformat_minor": 0
}
