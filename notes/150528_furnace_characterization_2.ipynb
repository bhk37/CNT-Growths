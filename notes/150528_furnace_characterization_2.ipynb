{
 "cells": [
  {
   "cell_type": "markdown",
   "metadata": {},
   "source": [
    "##IR Thermometry\n",
    "- Measures radiation energy over spectrum of wavelengths. Converted to temperature through principles of blackbody radiation.\n",
    "- Emissivity is the ratio of the energy emitted by a particular surface to that emitted by a blackbody. Depends on the material, temperature, and wavelength. Generally low for shiny metals and high for dull materials. \n",
    "- Absorption = emission, so in theory: $\\varepsilon = 1 - R - T$. Transmission in IR is negligible for most materials. "
   ]
  },
  {
   "cell_type": "markdown",
   "metadata": {},
   "source": [
    "## Possible issues\n",
    "- Discovered that the emissivity of quartz varies significantly with temperature: from ~0.9 at 300 C to ~0.4 at 800 C. This could explain why the set temp and measured temp diverges at high temps. A potential solution is to coat the cap in black paint.\n",
    "- Tested the IR gun on a beaker with boiling water. It generally read ~90 C but varied depending on position on the beaker and the angle of incidence. E.g. 110-130 C when pointed toward the bottom of the beaker. Most likely, either different parts of the beaker are at different temps, or the IR reading is distorted by background noise.\n",
    "- Compared the IR gun with a termocouple in the furnace at medium temps (200-400 C). The IR gun consistently read 10-50 C low, while the thermocouple read 10-30 C high."
   ]
  },
  {
   "cell_type": "markdown",
   "metadata": {},
   "source": [
    "##References\n",
    "- http://www.omega.com/temperature/z/pdf/z059-062.pdf\n",
    "- http://support.fluke.com/raytek-sales/Download/Asset/IR_THEORY_55514_ENG_REVB_LR.PDF\n",
    "- http://www.scigiene.com/pdfs/428_InfraredThermometerEmissivitytablesrev.pdf"
   ]
  }
 ],
 "metadata": {
  "kernelspec": {
   "display_name": "Python 3",
   "language": "python",
   "name": "python3"
  },
  "language_info": {
   "codemirror_mode": {
    "name": "ipython",
    "version": 3
   },
   "file_extension": ".py",
   "mimetype": "text/x-python",
   "name": "python",
   "nbconvert_exporter": "python",
   "pygments_lexer": "ipython3",
   "version": "3.4.2"
  }
 },
 "nbformat": 4,
 "nbformat_minor": 0
}
