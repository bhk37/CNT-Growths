{
 "cells": [
  {
   "cell_type": "markdown",
   "metadata": {},
   "source": [
    "## Updates 150802"
   ]
  },
  {
   "cell_type": "markdown",
   "metadata": {},
   "source": [
    "We discussed today several parts of our project.  \n",
    "\n",
    "To understand the conditions by which we can control the catalyst size after the chip anneal.  \n",
    "- We hypothesize that the size of catalyst particles must be comparable with size of the CNT for the CNT to grow.  \n",
    "- While the chip anneal is meant for straightening the facets, it inevitably changes the catalyst particles in ill-understood ways.  Although 1h anneal time sufficiently straightens the facets, it was observed previously (150602_S_summary) that the anneal time (1h vs 10h) greatly affected the CNT density.  For 1h anneal time, the CNT density was high even when the growth temperature fell below the threshold.  We therefore want to investigate catalyst particle size vs anneal time.  \n",
    "- We also want to investigate the ~5nm step on the catalyst lines before the chip anneal that disappear after annealing at 1000C for 1h.  The machine in CNF that does beam epitaxy is only supposed to have deposited only angstroms of catalyst.  \n",
    "\n",
    "To understand Ostwald's ripening (TODO)\n",
    "\n",
    "To characterize the furnace temperature with gas flow (TODO)"
   ]
  },
  {
   "cell_type": "markdown",
   "metadata": {},
   "source": [
    "### Catalyst particle size vs Anneal time"
   ]
  },
  {
   "cell_type": "markdown",
   "metadata": {},
   "source": [
    "We initially annealed chip W9 and annealed it for 1h.  The size distribution is shown below (TODO).  We then annealed it for another hour, only ramping through the ab transition for 15 minutes, and imaged the same spot.  The catalyst particles became larger.  \n",
    "\n",
    "This was unexpected because previous AFM images taken before the hydrogen anneal (150425_m19_beforeanneal.005.png) show many small particles.  The cooling and heating may have allowed the particles to clump together.  We thus decided to anneal two chips taken from another wafer: V7 for 1h, V8 for 2h, V2 for 10h for comparison.  "
   ]
  },
  {
   "cell_type": "markdown",
   "metadata": {},
   "source": [
    "### nm step before anneal"
   ]
  },
  {
   "cell_type": "markdown",
   "metadata": {},
   "source": [
    "The step may made of carbon contaminants, photoresist, iron or iron oxide.  \n",
    "\n",
    "We tried cleaning V1 with oxygen plasma to see if carbon was the reason for the step.  After two rounds of cleaning for about 2 minutes, the step height remained about the same at 3nm (TODO: add pictures)"
   ]
  },
  {
   "cell_type": "code",
   "execution_count": null,
   "metadata": {
    "collapsed": true
   },
   "outputs": [],
   "source": []
  },
  {
   "cell_type": "markdown",
   "metadata": {},
   "source": [
    "We also tried heating V4 at various temperature and times, hoping to strike the boiling point of the step. The melting and boiling points for possible contaminants are: PMMA (200C), SU8 (204C), Iron (melting 1538C), Iron oxide (melting 1566C).  We heated V4 at 400C for 30min, and at a different time ramping through 520 to 620 over two hours, but the step remained.  "
   ]
  },
  {
   "cell_type": "code",
   "execution_count": null,
   "metadata": {
    "collapsed": true
   },
   "outputs": [],
   "source": []
  }
 ],
 "metadata": {
  "kernelspec": {
   "display_name": "Python 3",
   "language": "python",
   "name": "python3"
  },
  "language_info": {
   "codemirror_mode": {
    "name": "ipython",
    "version": 3
   },
   "file_extension": ".py",
   "mimetype": "text/x-python",
   "name": "python",
   "nbconvert_exporter": "python",
   "pygments_lexer": "ipython3",
   "version": "3.4.2"
  }
 },
 "nbformat": 4,
 "nbformat_minor": 0
}
