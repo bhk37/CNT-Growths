{
 "cells": [
  {
   "cell_type": "markdown",
   "metadata": {},
   "source": [
    "### Review of Horizontally Aligned SWNTs - Rummeli (2012)\n",
    "Is alignment due to surface steps (4.3) or lattice orientation (4.4)? If it is lattice orientation, then why do we need to anneal the chips?\n",
    "\n",
    "Do we use ST-cut or AT-cut quarts?\n",
    "\n",
    "Many groups have achieved densities > 10 per um. Why do we get so much lower densities?\n",
    "\n",
    "Possibly useful references:\n",
    "- temperature control: 27\n",
    "- density: 14b, 20c, 35, 27a, 14a\n",
    "- catalyst particles: 18a, 42\n",
    "- anneal time / surface roughness: 14c\n",
    "- nanoparticle diameter: 14b, 26a, 77\n",
    "- catalyst anneal in vaccuum: 31\n",
    "- individual catalyst particles: 54\n",
    "- theoretical analysis for aligned growth on quartz: 25e"
   ]
  },
  {
   "cell_type": "markdown",
   "metadata": {},
   "source": [
    "###Tuning of Vertically-Aligned Carbon Nanotube Diameter and Areal Density through Catalyst Pre-Treatment - Thompson (2008)\n",
    "\n",
    "Controlled timing of start of H2 anneal\n",
    "- 3 different times: 5 min before, same time as growth, 10 min after\n",
    "- Avg. diameter decreased by factor of 2\n",
    "- Density increased by factor of 10 (but nonlinear)\n",
    "\n",
    "![](../images/150616_tuning_catalysts_fig2.png)\n",
    "\n",
    "Studied catalyst formation as function of anneal time\n",
    "- Starting with 1.2 nm of Fe\n",
    "- Anneal at 770 C\n",
    "- 3 regimes (Fig 7)\n",
    "    1. reduction, 0-15 min\n",
    "    2. clustering, 15-25 min\n",
    "    3. coursening, >25 min\n",
    "    \n",
    "How thick is the layer of Fe in our samples? After air anneal, is it a continous layer or has it started to form particles? \n",
    "\n",
    "![](../images/150616_tuning_catalysts_fig1.png)"
   ]
  },
  {
   "cell_type": "markdown",
   "metadata": {},
   "source": [
    "##Diameter and density control of nanotube forests - Hata (2013)\n",
    "\n",
    "Control parameters\n",
    "1. catalyst formation temperature (500, 840, 950); decoupled from growth temperature (840)\n",
    "2. hydrogen flow rate (500, 1000, 2500, 4000 sccm)\n",
    "\n",
    "Methods\n",
    "- measured nantoube diameter through Fourier transform infrared spectroscopy (FTIR)\n",
    "- can we measure our nanotubes this way?\n",
    "\n",
    "Results\n",
    "- density increases with temperature, decreases with flow rate\n",
    "- inverse correlation between diameter and density\n",
    "- during catalyst particle formation, total volume of catalyst is invariant\n",
    "\n",
    "![](../images/150617_density_diameter_control.png)\n",
    "\n",
    "Conclusion\n",
    "- catalyst formation dominated by Ostwald ripening (as opposed to surface diffusion)\n",
    "- analytic expression for growth rate: $$\\frac{dr}{dt} = -\\frac{A_s}{r^3}(1-\\frac{r}{r_c}) - C$$\n",
    "\n",
    "\n",
    "\n",
    "![](../images/150617_ostwald_ripening.png)"
   ]
  },
  {
   "cell_type": "markdown",
   "metadata": {},
   "source": [
    "###Temperature dependence of Fe-catalysed growth - Cambell (2002)"
   ]
  },
  {
   "cell_type": "markdown",
   "metadata": {},
   "source": [
    "###Correlation between nanoparticle size and CNT diameter - Thune (2002)"
   ]
  }
 ],
 "metadata": {
  "kernelspec": {
   "display_name": "Python 3",
   "language": "python",
   "name": "python3"
  },
  "language_info": {
   "codemirror_mode": {
    "name": "ipython",
    "version": 3
   },
   "file_extension": ".py",
   "mimetype": "text/x-python",
   "name": "python",
   "nbconvert_exporter": "python",
   "pygments_lexer": "ipython3",
   "version": "3.4.2"
  }
 },
 "nbformat": 4,
 "nbformat_minor": 0
}
