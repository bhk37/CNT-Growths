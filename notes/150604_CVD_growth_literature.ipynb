{
 "cells": [
  {
   "cell_type": "markdown",
   "metadata": {},
   "source": [
    "Ibrahim et al. \"CVD-Grown Horizontally Aligned Single-Walled Carbon Nanotubes: Synthesis Routes and Growth Mechanisms.\" Small 8.13 (2012): 1973-992.\n",
    "- temperature control: 27\n",
    "- density: 14b, 20c, 35, 27a, 14a\n",
    "- catalyst particles: 18a, 42\n",
    "- anneal time / surface roughness: 14c\n",
    "- nanoparticle diameter: 14b, 26a, 77\n",
    "- catalyst anneal in vaccuum: 31\n",
    "- individual catalyst particles: 54"
   ]
  }
 ],
 "metadata": {
  "kernelspec": {
   "display_name": "Python 3",
   "language": "python",
   "name": "python3"
  },
  "language_info": {
   "codemirror_mode": {
    "name": "ipython",
    "version": 3
   },
   "file_extension": ".py",
   "mimetype": "text/x-python",
   "name": "python",
   "nbconvert_exporter": "python",
   "pygments_lexer": "ipython3",
   "version": "3.4.2"
  }
 },
 "nbformat": 4,
 "nbformat_minor": 0
}
